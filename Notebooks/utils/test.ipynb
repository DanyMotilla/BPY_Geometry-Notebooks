{
 "cells": [
  {
   "cell_type": "code",
   "execution_count": 9,
   "metadata": {},
   "outputs": [
    {
     "name": "stdout",
     "output_type": "stream",
     "text": [
      "Defaulting to user installation because normal site-packages is not writeable\n",
      "Requirement already satisfied: bpy in /home/dany/.local/lib/python3.10/site-packages (4.0.0)\n",
      "Requirement already satisfied: mathutils in /home/dany/.local/lib/python3.10/site-packages (3.3.0)\n",
      "Requirement already satisfied: requests in /home/dany/.local/lib/python3.10/site-packages (from bpy) (2.32.3)\n",
      "Requirement already satisfied: numpy in /home/dany/.local/lib/python3.10/site-packages (from bpy) (2.1.3)\n",
      "Requirement already satisfied: zstandard in /home/dany/.local/lib/python3.10/site-packages (from bpy) (0.23.0)\n",
      "Requirement already satisfied: cython in /home/dany/.local/lib/python3.10/site-packages (from bpy) (3.0.11)\n",
      "Requirement already satisfied: charset-normalizer<4,>=2 in /home/dany/.local/lib/python3.10/site-packages (from requests->bpy) (3.4.0)\n",
      "Requirement already satisfied: certifi>=2017.4.17 in /usr/lib/python3/dist-packages (from requests->bpy) (2020.6.20)\n",
      "Requirement already satisfied: urllib3<3,>=1.21.1 in /usr/lib/python3/dist-packages (from requests->bpy) (1.26.5)\n",
      "Requirement already satisfied: idna<4,>=2.5 in /usr/lib/python3/dist-packages (from requests->bpy) (3.3)\n",
      "Note: you may need to restart the kernel to use updated packages.\n"
     ]
    }
   ],
   "source": [
    "pip install bpy mathutils"
   ]
  },
  {
   "cell_type": "code",
   "execution_count": 12,
   "metadata": {},
   "outputs": [],
   "source": [
    "import bpy\n",
    "from bpy import data as D, context as C\n",
    "from mathutils import Matrix, Vector\n",
    "from math import pi\n",
    "import bmesh"
   ]
  },
  {
   "cell_type": "code",
   "execution_count": 17,
   "metadata": {},
   "outputs": [
    {
     "name": "stdout",
     "output_type": "stream",
     "text": [
      "Light\n",
      "Camera\n",
      "Cube.001\n"
     ]
    }
   ],
   "source": [
    "# Print objects in collection\n",
    "for obj in bpy.context.collection.objects:\n",
    "    print(obj.name)"
   ]
  },
  {
   "cell_type": "code",
   "execution_count": 14,
   "metadata": {},
   "outputs": [],
   "source": [
    "# Delete default cube\n",
    "objects_to_remove = [\"Cube\"]\n",
    "for name in objects_to_remove:\n",
    "    if name in bpy.context.collection.objects:\n",
    "        obj = bpy.context.collection.objects[name]\n",
    "        bpy.context.collection.objects.unlink(obj)"
   ]
  },
  {
   "cell_type": "code",
   "execution_count": 16,
   "metadata": {},
   "outputs": [],
   "source": [
    "# Create separate matrix for each transformation.\n",
    "translate = Matrix.Translation(Vector((0.5, -0.25, 0.25)))\n",
    "\n",
    "# Rotate 45 degrees around the z axis, (0.0, 0.0, 1.0).\n",
    "rotate = Matrix.Rotation(pi / 4.0, 4, Vector((0.0, 0.0, 1.0)))\n",
    "\n",
    "# Use a 4D vector to create a 4 x 4 nonuniform scale.\n",
    "scale = Matrix.Diagonal(Vector((1.0, 0.5, 0.75, 1.0)))\n",
    "\n",
    "# Composite affine transform from three separate matrices\n",
    "# with the matmul operator (the at symbol, '@').\n",
    "transform = translate @ rotate @ scale\n",
    "\n",
    "bm = bmesh.new()\n",
    "bmesh.ops.create_cube(bm, size=0.5, matrix=transform, calc_uvs=True)\n",
    "mesh_data = D.meshes.new(\"Cube\")\n",
    "bm.to_mesh(mesh_data)\n",
    "bm.free()\n",
    "mesh_obj = D.objects.new(mesh_data.name, mesh_data)\n",
    "C.collection.objects.link(mesh_obj)"
   ]
  },
  {
   "cell_type": "code",
   "execution_count": 18,
   "metadata": {},
   "outputs": [
    {
     "name": "stdout",
     "output_type": "stream",
     "text": [
      "Fra:1 Mem:43.22M (Peak 44.31M) | Time:00:00.12 | Syncing Light\n",
      "Fra:1 Mem:43.22M (Peak 44.31M) | Time:00:00.12 | Syncing Camera\n",
      "Fra:1 Mem:43.23M (Peak 44.31M) | Time:00:00.12 | Syncing Cube.001\n",
      "Fra:1 Mem:43.26M (Peak 44.31M) | Time:00:00.14 | Rendering 1 / 64 samples\n",
      "Fra:1 Mem:43.26M (Peak 44.31M) | Time:00:00.15 | Rendering 26 / 64 samples\n",
      "Fra:1 Mem:43.26M (Peak 44.31M) | Time:00:00.15 | Rendering 51 / 64 samples\n",
      "Fra:1 Mem:43.26M (Peak 44.31M) | Time:00:00.15 | Rendering 64 / 64 samples\n",
      "Saved: 'output_2.png'\n",
      "Time: 00:00.50 (Saving: 00:00.15)\n",
      "\n"
     ]
    },
    {
     "data": {
      "text/plain": [
       "{'FINISHED'}"
      ]
     },
     "execution_count": 18,
     "metadata": {},
     "output_type": "execute_result"
    }
   ],
   "source": [
    "output = './output_2.png'\n",
    "bpy.context.scene.render.filepath = output\n",
    "bpy.ops.render.render(write_still=True)"
   ]
  }
 ],
 "metadata": {
  "kernelspec": {
   "display_name": "Python 3",
   "language": "python",
   "name": "python3"
  },
  "language_info": {
   "codemirror_mode": {
    "name": "ipython",
    "version": 3
   },
   "file_extension": ".py",
   "mimetype": "text/x-python",
   "name": "python",
   "nbconvert_exporter": "python",
   "pygments_lexer": "ipython3",
   "version": "3.10.12"
  }
 },
 "nbformat": 4,
 "nbformat_minor": 2
}
